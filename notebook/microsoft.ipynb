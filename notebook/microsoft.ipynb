{
 "cells": [
  {
   "cell_type": "markdown",
   "id": "439d15e2",
   "metadata": {},
   "source": [
    "Data Preprocessing"
   ]
  },
  {
   "cell_type": "markdown",
   "id": "01ab659c",
   "metadata": {},
   "source": [
    "Import the libraries"
   ]
  },
  {
   "cell_type": "code",
   "execution_count": 173,
   "id": "33648a91",
   "metadata": {},
   "outputs": [],
   "source": [
    "import pandas as pd"
   ]
  },
  {
   "cell_type": "markdown",
   "id": "46a1233a",
   "metadata": {},
   "source": [
    "Load the dataset"
   ]
  },
  {
   "cell_type": "code",
   "execution_count": 174,
   "id": "f28acc2b",
   "metadata": {},
   "outputs": [],
   "source": [
    "df = pd.read_csv(\"microsoft.csv\")"
   ]
  },
  {
   "cell_type": "markdown",
   "id": "a51fd4d9",
   "metadata": {},
   "source": [
    "Preview the dataset"
   ]
  },
  {
   "cell_type": "code",
   "execution_count": 175,
   "id": "b961d04d",
   "metadata": {},
   "outputs": [
    {
     "name": "stdout",
     "output_type": "stream",
     "text": [
      "         Date     Close      High       Low      Open      Volume\n",
      "0  1986-03-13  0.059598  0.062259  0.054277  0.054277  1031788800\n",
      "1  1986-03-14  0.061726  0.062791  0.059598  0.059598   308160000\n",
      "2  1986-03-17  0.062791  0.063323  0.061726  0.061726   133171200\n",
      "3  1986-03-18  0.061194  0.063323  0.060662  0.062791    67766400\n",
      "4  1986-03-19  0.060130  0.061726  0.059598  0.061194    47894400\n",
      "<class 'pandas.core.frame.DataFrame'>\n",
      "RangeIndex: 9935 entries, 0 to 9934\n",
      "Data columns (total 6 columns):\n",
      " #   Column  Non-Null Count  Dtype  \n",
      "---  ------  --------------  -----  \n",
      " 0   Date    9935 non-null   object \n",
      " 1   Close   9935 non-null   float64\n",
      " 2   High    9935 non-null   float64\n",
      " 3   Low     9935 non-null   float64\n",
      " 4   Open    9935 non-null   float64\n",
      " 5   Volume  9935 non-null   int64  \n",
      "dtypes: float64(4), int64(1), object(1)\n",
      "memory usage: 465.8+ KB\n",
      "None\n"
     ]
    }
   ],
   "source": [
    "print(df.head())\n",
    "print(df.info())"
   ]
  },
  {
   "cell_type": "markdown",
   "id": "7137a8ff",
   "metadata": {},
   "source": [
    "Convert the \"Date\" column to datetime objects"
   ]
  },
  {
   "cell_type": "code",
   "execution_count": 176,
   "id": "7041979c",
   "metadata": {},
   "outputs": [],
   "source": [
    "df[\"Date\"] = pd.to_datetime(df[\"Date\"])"
   ]
  },
  {
   "cell_type": "markdown",
   "id": "2b9219c6",
   "metadata": {},
   "source": [
    "Print the information to confirm the data type has changed"
   ]
  },
  {
   "cell_type": "code",
   "execution_count": 177,
   "id": "f0eb5a4c",
   "metadata": {},
   "outputs": [
    {
     "name": "stdout",
     "output_type": "stream",
     "text": [
      "<class 'pandas.core.frame.DataFrame'>\n",
      "RangeIndex: 9935 entries, 0 to 9934\n",
      "Data columns (total 6 columns):\n",
      " #   Column  Non-Null Count  Dtype         \n",
      "---  ------  --------------  -----         \n",
      " 0   Date    9935 non-null   datetime64[ns]\n",
      " 1   Close   9935 non-null   float64       \n",
      " 2   High    9935 non-null   float64       \n",
      " 3   Low     9935 non-null   float64       \n",
      " 4   Open    9935 non-null   float64       \n",
      " 5   Volume  9935 non-null   int64         \n",
      "dtypes: datetime64[ns](1), float64(4), int64(1)\n",
      "memory usage: 465.8 KB\n",
      "None\n"
     ]
    }
   ],
   "source": [
    "print(df.info())"
   ]
  },
  {
   "cell_type": "markdown",
   "id": "aa8e7f83",
   "metadata": {},
   "source": [
    "Handling missing values"
   ]
  },
  {
   "cell_type": "code",
   "execution_count": 178,
   "id": "b526a295",
   "metadata": {},
   "outputs": [
    {
     "name": "stdout",
     "output_type": "stream",
     "text": [
      "Date      0\n",
      "Close     0\n",
      "High      0\n",
      "Low       0\n",
      "Open      0\n",
      "Volume    0\n",
      "dtype: int64\n"
     ]
    }
   ],
   "source": [
    "df_missing = df.isnull().sum()\n",
    "print(df_missing)"
   ]
  },
  {
   "cell_type": "markdown",
   "id": "87d44036",
   "metadata": {},
   "source": [
    "Handling Duplicates"
   ]
  },
  {
   "cell_type": "code",
   "execution_count": 179,
   "id": "4904cd02",
   "metadata": {},
   "outputs": [
    {
     "name": "stdout",
     "output_type": "stream",
     "text": [
      "0\n"
     ]
    }
   ],
   "source": [
    "df_duplicated = df.duplicated().sum()\n",
    "print(df_duplicated)"
   ]
  },
  {
   "cell_type": "markdown",
   "id": "6dd6d3b8",
   "metadata": {},
   "source": [
    "Feature Engineering"
   ]
  },
  {
   "cell_type": "code",
   "execution_count": 180,
   "id": "b780a3c2",
   "metadata": {},
   "outputs": [],
   "source": [
    "# Create new feature from the \"Date\" column\n",
    "df[\"Year\"] = df[\"Date\"].dt.year\n",
    "df[\"Month\"] = df[\"Date\"].dt.month\n",
    "df[\"Day\"] = df[\"Date\"].dt.day\n",
    "df[\"Day_of_Week\"] = df[\"Date\"].dt.dayofweek"
   ]
  },
  {
   "cell_type": "markdown",
   "id": "f371619d",
   "metadata": {},
   "source": [
    "Set the Date Column as the Index"
   ]
  },
  {
   "cell_type": "code",
   "execution_count": 181,
   "id": "bfafbe0b",
   "metadata": {},
   "outputs": [],
   "source": [
    "df.set_index(\"Date\",inplace=True)"
   ]
  },
  {
   "cell_type": "markdown",
   "id": "a9c68712",
   "metadata": {},
   "source": [
    "Rename the Column for Clarity"
   ]
  },
  {
   "cell_type": "code",
   "execution_count": 182,
   "id": "58984229",
   "metadata": {},
   "outputs": [],
   "source": [
    "df.rename(columns={\n",
    "    \"Close\": \"close\",\n",
    "    \"High\": \"high\",\n",
    "    \"Low\": \"low\",\n",
    "    \"Open\": \"open\",\n",
    "    \"Volume\": \"volume\",\n",
    "    \"Year\": \"year\",\n",
    "    \"Month\": \"month\",\n",
    "    \"Month\":\"month\",\n",
    "    \"Day\": \"day\",\n",
    "    \"Day_of_Week\": \"day_of_week\"\n",
    "},inplace=True)"
   ]
  },
  {
   "cell_type": "markdown",
   "id": "1f34cb2d",
   "metadata": {},
   "source": [
    "Display the first 5 rows and the information"
   ]
  },
  {
   "cell_type": "code",
   "execution_count": 183,
   "id": "bb37519c",
   "metadata": {},
   "outputs": [
    {
     "name": "stdout",
     "output_type": "stream",
     "text": [
      "               close      high       low      open      volume  year  month  \\\n",
      "Date                                                                          \n",
      "1986-03-13  0.059598  0.062259  0.054277  0.054277  1031788800  1986      3   \n",
      "1986-03-14  0.061726  0.062791  0.059598  0.059598   308160000  1986      3   \n",
      "1986-03-17  0.062791  0.063323  0.061726  0.061726   133171200  1986      3   \n",
      "1986-03-18  0.061194  0.063323  0.060662  0.062791    67766400  1986      3   \n",
      "1986-03-19  0.060130  0.061726  0.059598  0.061194    47894400  1986      3   \n",
      "\n",
      "            day  day_of_week  \n",
      "Date                          \n",
      "1986-03-13   13            3  \n",
      "1986-03-14   14            4  \n",
      "1986-03-17   17            0  \n",
      "1986-03-18   18            1  \n",
      "1986-03-19   19            2  \n",
      "<class 'pandas.core.frame.DataFrame'>\n",
      "DatetimeIndex: 9935 entries, 1986-03-13 to 2025-08-18\n",
      "Data columns (total 9 columns):\n",
      " #   Column       Non-Null Count  Dtype  \n",
      "---  ------       --------------  -----  \n",
      " 0   close        9935 non-null   float64\n",
      " 1   high         9935 non-null   float64\n",
      " 2   low          9935 non-null   float64\n",
      " 3   open         9935 non-null   float64\n",
      " 4   volume       9935 non-null   int64  \n",
      " 5   year         9935 non-null   int32  \n",
      " 6   month        9935 non-null   int32  \n",
      " 7   day          9935 non-null   int32  \n",
      " 8   day_of_week  9935 non-null   int32  \n",
      "dtypes: float64(4), int32(4), int64(1)\n",
      "memory usage: 620.9 KB\n",
      "None\n"
     ]
    }
   ],
   "source": [
    "print(df.head())\n",
    "print(df.info())"
   ]
  },
  {
   "cell_type": "markdown",
   "id": "665991b5",
   "metadata": {},
   "source": [
    "Saved the cleaned data"
   ]
  },
  {
   "cell_type": "code",
   "execution_count": null,
   "id": "041e2099",
   "metadata": {},
   "outputs": [
    {
     "name": "stdout",
     "output_type": "stream",
     "text": [
      "Saved Successfully\n"
     ]
    }
   ],
   "source": [
    "df.to_csv(\"microsoftcleaned.csv\",index=True)\n",
    "print(\"Saved Successfully\")"
   ]
  }
 ],
 "metadata": {
  "kernelspec": {
   "display_name": "Python 3",
   "language": "python",
   "name": "python3"
  },
  "language_info": {
   "codemirror_mode": {
    "name": "ipython",
    "version": 3
   },
   "file_extension": ".py",
   "mimetype": "text/x-python",
   "name": "python",
   "nbconvert_exporter": "python",
   "pygments_lexer": "ipython3",
   "version": "3.13.3"
  }
 },
 "nbformat": 4,
 "nbformat_minor": 5
}
